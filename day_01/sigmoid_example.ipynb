{
 "cells": [
  {
   "cell_type": "code",
   "execution_count": 1,
   "metadata": {},
   "outputs": [],
   "source": [
    "import numpy as np \n",
    "import matplotlib.pyplot as plt\n",
    "from PIL import Image\n",
    "from tqdm import tqdm\n",
    "import os\n",
    "import shutil\n",
    "import glob\n",
    "\n",
    "np.random.seed(2)"
   ]
  },
  {
   "cell_type": "markdown",
   "metadata": {},
   "source": [
    "## Plot data"
   ]
  },
  {
   "cell_type": "code",
   "execution_count": 5,
   "metadata": {},
   "outputs": [],
   "source": [
    "X = np.array([[0.50, 0.75, 1.00, 1.25, 1.50, 1.75, 1.75, 2.00, 2.25, 2.50, \n",
    "              2.75, 3.00, 3.25, 3.50, 4.00, 4.25, 4.50, 4.75, 5.00, 5.50]])\n",
    "y = np.array([0, 0, 0, 0, 0, 0, 1, 0, 1, 0, 1, 0, 1, 0, 1, 1, 1, 1, 1, 1])\n",
    "\n",
    "x1, y1 = X.flatten()[y == 0], y[y == 0]\n",
    "x2, y2 = X.flatten()[y == 1], y[y == 1]"
   ]
  },
  {
   "cell_type": "code",
   "execution_count": 6,
   "metadata": {},
   "outputs": [
    {
     "data": {
      "image/png": "[encoded data removed]",
      "text/plain": [
       "<Figure size 500x300 with 1 Axes>"
      ]
     },
     "metadata": {},
     "output_type": "display_data"
    }
   ],
   "source": [
    "fig = plt.figure(figsize=(5, 3))\n",
    "plt.scatter(x1, y1, color='r', label='fail')\n",
    "plt.scatter(x2, y2, color='b', marker='s', label='pass')\n",
    "plt.yticks([0, 1])\n",
    "plt.xlabel('Studying hours')\n",
    "plt.ylabel('fail(0) / pass(1)')\n",
    "plt.legend(loc='lower right')\n",
    "plt.title('Relationship between Studying Hours and Test Results')\n",
    "plt.show()"
   ]
  },
  {
   "cell_type": "markdown",
   "metadata": {},
   "source": [
    "# Using sigmoid to find the weights"
   ]
  },
  {
   "cell_type": "code",
   "execution_count": 7,
   "metadata": {},
   "outputs": [],
   "source": [
    "X = np.concatenate((np.ones((1, X.shape[1])), X), axis = 0)"
   ]
  },
  {
   "cell_type": "code",
   "execution_count": 8,
   "metadata": {},
   "outputs": [],
   "source": [
    "X0 = X[1, np.where(y == 0)][0]\n",
    "y0 = y[np.where(y == 0)]\n",
    "X1 = X[1, np.where(y == 1)][0]\n",
    "y1 = y[np.where(y == 1)]"
   ]
  },
  {
   "cell_type": "code",
   "execution_count": 27,
   "metadata": {},
   "outputs": [],
   "source": [
    "def sigmoid(s):\n",
    "    return 1/(1 + np.exp(-s))\n",
    "\n",
    "def draw_data(img_name, w, iteration):\n",
    "    fig = plt.figure()\n",
    "    plt.plot(X0, y0, 'ro', markersize = 8)\n",
    "    plt.plot(X1, y1, 'bs', markersize = 8)\n",
    "    xx = np.linspace(-3, 8, 1000)\n",
    "    w0 = w[-1][0][0]\n",
    "    w1 = w[-1][1][0]\n",
    "    threshold = -w0/w1\n",
    "    yy = sigmoid(w0 + w1*xx)\n",
    "    plt.axis([-3, 8, -1, 2])\n",
    "    plt.plot(xx, yy, 'g-', linewidth = 2)\n",
    "    plt.plot(threshold, .5, 'y^', markersize = 8)\n",
    "    plt.xlabel('studying hours')\n",
    "    plt.ylabel('predicted probability of pass')\n",
    "    plt.title('Iteration: {}'.format(iteration))\n",
    "    plt.savefig(img_name)\n",
    "    plt.close()"
   ]
  },
  {
   "cell_type": "code",
   "execution_count": 29,
   "metadata": {},
   "outputs": [],
   "source": [
    "!mkdir sigmoid_frames"
   ]
  },
  {
   "cell_type": "code",
   "execution_count": 30,
   "metadata": {},
   "outputs": [],
   "source": [
    "def logistic_sigmoid_regression(X, y, w_init, learning_rate, tol = 1e-4, max_count = 3000):\n",
    "    w = [w_init]    \n",
    "    it = 0\n",
    "    N = X.shape[1]\n",
    "    d = X.shape[0]\n",
    "    count = 0\n",
    "    check_w_after = 20\n",
    "    while count < max_count:\n",
    "        # mix data \n",
    "        mix_id = np.random.permutation(N)\n",
    "        for i in mix_id:\n",
    "            xi = X[:, i].reshape(d, 1)\n",
    "            yi = y[i]\n",
    "            zi = sigmoid(np.dot(w[-1].T, xi))\n",
    "            w_new = w[-1] + learning_rate*(yi - zi)*xi\n",
    "            count += 1\n",
    "            # stopping criteria\n",
    "            if count%check_w_after == 0:                \n",
    "                if np.linalg.norm(w_new - w[-check_w_after]) < tol:\n",
    "                    return w\n",
    "            w.append(w_new)\n",
    "            if count & 1 == 1:\n",
    "                draw_data('./sigmoid_frames/img_{}.png'.format(count), w, count)\n",
    "    return w\n",
    "learning_rate = .05 \n",
    "d = X.shape[0]\n",
    "#w_init = np.random.randn(d, 1)\n",
    "w_init = np.array([[0], [1]])\n",
    "\n",
    "w = logistic_sigmoid_regression(X, y, w_init, learning_rate)"
   ]
  },
  {
   "cell_type": "code",
   "execution_count": 31,
   "metadata": {},
   "outputs": [],
   "source": [
    "def create_gif(img_dir, output_file, duration=500):\n",
    "    # List of image filenames\n",
    "    image_files = os.listdir(img_dir)\n",
    "    image_files = sorted(image_files, key=lambda filename: int(filename.split('_')[1].split('.')[0]))\n",
    "    image_paths = [os.path.join(img_dir, img_file) for img_file in image_files]\n",
    "    # Open the first image to get its size\n",
    "    first_image = Image.open(image_paths[0])\n",
    "    size = first_image.size\n",
    "    images = []\n",
    "\n",
    "    try:\n",
    "        for img in image_paths:\n",
    "            images.append(Image.open(img))\n",
    "    except Exception as e:\n",
    "        print(f\"An unexpected error occurred: {e}\")\n",
    "\n",
    "    # Create a GIF file\n",
    "    with Image.new('RGB', size) as gif:\n",
    "        gif.save(output_file, save_all=True, append_images=images, duration=duration, loop=0)\n",
    "\n",
    "    shutil.rmtree(img_dir)\n",
    "\n",
    "create_gif('./sigmoid_frames', './sigmoid_1D_illustration.gif', duration=100)"
   ]
  },
  {
   "cell_type": "markdown",
   "metadata": {},
   "source": [
    "# References\n",
    "\n",
    "https://machinelearningcoban.com/2017/01/27/logisticregression/"
   ]
  }
 ],
 "metadata": {
  "kernelspec": {
   "display_name": "Python 3 (ipykernel)",
   "language": "python",
   "name": "python3"
  }
 },
 "nbformat": 4,
 "nbformat_minor": 2
}
