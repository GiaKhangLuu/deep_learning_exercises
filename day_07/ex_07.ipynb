{
 "cells": [
  {
   "cell_type": "code",
   "execution_count": 17,
   "id": "19659c28-8e74-4d8d-918b-cca2d0510925",
   "metadata": {},
   "outputs": [],
   "source": [
    "!ln -s /Users/giakhang/Downloads/indoor_CVPR_dataset ."
   ]
  },
  {
   "cell_type": "code",
   "execution_count": 28,
   "id": "dcfb621c-91fb-4b4c-ae97-09514f67f80f",
   "metadata": {},
   "outputs": [],
   "source": [
    "import numpy as np\n",
    "import progressbar\n",
    "import imutils\n",
    "import random\n",
    "import cv2\n",
    "import os\n",
    "from pathlib import Path"
   ]
  },
  {
   "cell_type": "code",
   "execution_count": 42,
   "id": "83cb223a-6fef-4e0e-9d3f-7ba95211fc03",
   "metadata": {},
   "outputs": [],
   "source": [
    "def create_dataset():\n",
    "    DATASET_BASE = Path('indoor_CVPR_dataset')\n",
    "\n",
    "    # 1. Get file paths\n",
    "    image_paths = []\n",
    "    for root, dirs, files in os.walk(DATASET_BASE / 'images'):\n",
    "        for file in files:\n",
    "            image_paths.append(os.path.join(root, file))\n",
    "\n",
    "    # 2. Randomly select 10000 images\n",
    "    random.shuffle(image_paths)\n",
    "    image_paths = image_paths[:10000]\n",
    "\n",
    "    # 3. Rotate images\n",
    "    # {rotated_angle: num_of_imgs, ...}\n",
    "    angles = {0: 0, \n",
    "              90: 0, \n",
    "              180: 0, \n",
    "              270: 0}\n",
    "\n",
    "    # Start processbar\n",
    "    bar = progressbar.ProgressBar(maxval=len(image_paths))\n",
    "    bar.start()\n",
    "\n",
    "    for i, image_path in enumerate(image_paths):\n",
    "        image = cv2.imread(image_path)\n",
    "        angle = np.random.choice(list(angles.keys()))\n",
    "\n",
    "        if image is None:\n",
    "            continue\n",
    "\n",
    "        # Rotate image\n",
    "        image = imutils.rotate_bound(image, angle)\n",
    "\n",
    "        # Output path\n",
    "        base = os.path.sep.join([str(DATASET_BASE / 'rotated_images'), str(angle)])\n",
    "        if not os.path.exists(base):\n",
    "            os.makedirs(base)\n",
    "\n",
    "        index = image_path.rfind(\".\")\n",
    "        ext = image_path[index:]\n",
    "        output_path = [base, \"image_{}{}\".format(str(angles.get(angle, 0)).zfill(5), ext)]\n",
    "        output_path = os.path.sep.join(output_path)\n",
    "\n",
    "        # Write file\n",
    "        cv2.imwrite(output_path, image)\n",
    "\n",
    "        angles[angle] = angles.get(angle, 0) + 1\n",
    "        bar.update(i)\n",
    "\n",
    "    bar.finish()\n",
    "\n",
    "    for angle in list(angles.keys()):\n",
    "        print('Số lượng ảnh góc {}: {}'.format(angle, angles[angle]))"
   ]
  },
  {
   "cell_type": "code",
   "execution_count": 43,
   "id": "6e1d983a-3579-4d62-8345-a91c0ba35a2f",
   "metadata": {},
   "outputs": [
    {
     "name": "stderr",
     "output_type": "stream",
     "text": [
      "100% |#########################################################################|\r"
     ]
    },
    {
     "name": "stdout",
     "output_type": "stream",
     "text": [
      "Số lượng ảnh góc 0: 2427\n",
      "Số lượng ảnh góc 90: 2525\n",
      "Số lượng ảnh góc 180: 2491\n",
      "Số lượng ảnh góc 270: 2536\n"
     ]
    },
    {
     "name": "stderr",
     "output_type": "stream",
     "text": [
      "\n"
     ]
    }
   ],
   "source": [
    "create_dataset()"
   ]
  },
  {
   "cell_type": "code",
   "execution_count": 3,
   "id": "9cfb25f1-50c6-462c-9510-3c3ee3f35aae",
   "metadata": {},
   "outputs": [],
   "source": [
    "# import the necessary packages\n",
    "import h5py\n",
    "import os\n",
    "\n",
    "\n",
    "class HDF5DatasetWriter:\n",
    "    def __init__(self, dims, outputPath, dataKey='images', bufSize=1000):\n",
    "        '''\n",
    "        check to see if the output path exists, and if so, raise an exception\n",
    "        '''\n",
    "        if os.path.exists(outputPath):\n",
    "            raise ValueError(\"The supplied 'output path' already exists and cannot be overwritten. Manually delete the file before contuinuing\", outputPath)\n",
    "\n",
    "        # open the HDF5 database for writing and create two datasets: one to store the images/feature and another to store class labels\n",
    "        self.db = h5py.File(outputPath, 'w')\n",
    "        self.data = self.db.create_dataset('labels', (dims[0],), int)\n",
    "\n",
    "        # store the buffer size, then initizlize the buffer itself along with the index into the database\n",
    "        self.bufSize = bufSize\n",
    "        self.buffer = {'data': [], 'labels': []}\n",
    "        self.idx = 0\n",
    "\n",
    "    def add(self, rows, labels):\n",
    "        '''\n",
    "        add the rows and labels to the buffer\n",
    "        '''\n",
    "        self.buffer['data'].extend(rows)\n",
    "        self.buffer['labels'].extend(labels)\n",
    "\n",
    "        # check to see if the buffer needs to be flused to disk\n",
    "        if len(self.buffer['data']) >= self.bufSize:\n",
    "            self.flush()\n",
    "\n",
    "    def flush(self):\n",
    "        '''\n",
    "        write the buffers to disk then reset the buffer\n",
    "        '''\n",
    "        i = self.idx + len(self.buffer['data'])\n",
    "        self.data[self.idx:i] = self.buffer['data']\n",
    "        self.labels[self.idx:i] = self.buffer['labels']\n",
    "        self.idx = i\n",
    "        self.buffer = {'data': [], 'labels': []}\n",
    "\n",
    "    def storeClassLabels(self, classLabels):\n",
    "        '''\n",
    "        create a dataset to store the actual class label names, then store the class labels\n",
    "        '''\n",
    "        dt = h5py.special_dtype(vlen=str)\n",
    "        labelSet = self.db.create_dataset('label_names', (len(classLabels),), dtype=dt)\n",
    "        labelSet[:] = classLabels\n",
    "\n",
    "    def close(self):\n",
    "        '''\n",
    "        check to see if ther is any other entries in the buffer that need to be flushed to the disk\n",
    "        '''\n",
    "        if len(self.buffer['data']) > 0:\n",
    "            self.flush()\n",
    "\n",
    "        # close the dataset\n",
    "        self.db.close()"
   ]
  },
  {
   "cell_type": "code",
   "execution_count": 43,
   "id": "8c43022c-2928-4010-8cf7-90b21e10dd34",
   "metadata": {},
   "outputs": [],
   "source": [
    "from sklearn.preprocessing import LabelEncoder\n",
    "from imutils import paths\n",
    "import numpy as np\n",
    "import progressbar\n",
    "import random\n",
    "import os\n",
    "from pathlib import Path\n",
    "\n",
    "def feature_extraction():\n",
    "    DATASET_BASE = Path('indoor_CVPR_dataset')\n",
    "\n",
    "    # 1. Get rotated images' paths and their labels\n",
    "    image_paths, labels = [], []\n",
    "    rotated_images = DATASET_BASE / 'rotated_images'\n",
    "\n",
    "    for root, dirs, files in os.walk(rotated_images):\n",
    "        for file in files:\n",
    "            if file[-3:] in ['jpg', 'png', 'jpeg']:\n",
    "                image_paths.append(os.path.join(root, file))\n",
    "\n",
    "                # Chỉ dùng cho Linux hoặc MacOS, \n",
    "                labels.append(int(root.split('/')[-1]))\n",
    "                \n",
    "    # 2. Encode label to number\n",
    "    le = LabelEncoder()\n",
    "    labels = le.fit_transform(labels)\n",
    "\n",
    "    # 3. Load VGG16\n",
    "    model = ...\n",
    "\n",
    "    # 4. Create HDF5 database\n",
    "    hdf5_file = DATASET_BASE / 'hdf5' / 'features.hdf5'\n",
    "    dataset = HDF5DatasetWriter((len(imagePaths), 512 * 7 * 7), hdf5_file, dataKey=\"features\", bufSize=1000)\n",
    "\n",
    "    # 5. Save label names to datset\n",
    "    dataset.storeClassLabels(le.classes_)\n",
    "\n",
    "    bar = progressbar.ProgressBar(maxval=len(imagePaths))\n",
    "    bar.start()\n",
    "\n",
    "    # 6. Iterate over batches\n",
    "    bs = 32\n",
    "    for i in np.arange(0, len(image_paths), bs):\n",
    "        # Get image path and its label\n",
    "        batch_paths = image_paths[i:i + bs]\n",
    "        batch_labels = labels[i:i + bs]\n",
    "\n",
    "        # Batch images\n",
    "        batch_images = []\n",
    "        for j, image_path in enumerate(batch_paths):\n",
    "            # Load image, target_size = (224, 224)\n",
    "            image = load_img(image_path)\n",
    "            image = img_to_array(image)\n",
    "\n",
    "            # Preprocess image\n",
    "            image = np.expand_dims(image, 0)\n",
    "            image = imagenet_utils.preprocess_input(image)\n",
    "\n",
    "            # Add to batches\n",
    "            batch_images.append(image)\n",
    "\n",
    "        batch_images = np.vstack(batch_images)\n",
    "        features = model.predict(batch_images)\n",
    "\n",
    "        "
   ]
  },
  {
   "cell_type": "code",
   "execution_count": 44,
   "id": "777e7dcb-b821-453e-8b0c-f86085aa4364",
   "metadata": {},
   "outputs": [
    {
     "name": "stdout",
     "output_type": "stream",
     "text": [
      "[90, 90, 90, 90, 90, 90, 90, 90, 90, 90, 90, 90, 90, 90, 90, 90, 90, 90, 90, 90, 90, 90, 90, 90, 90, 90, 90, 90, 90, 90, 90, 90, 90, 90, 90, 90, 90, 90, 90, 90, 90, 90, 90, 90, 90, 90, 90, 90, 90, 90]\n",
      "[1 1 1 1 1 1 1 1 1 1 1 1 1 1 1 1 1 1 1 1 1 1 1 1 1 1 1 1 1 1 1 1 1 1 1 1 1\n",
      " 1 1 1 1 1 1 1 1 1 1 1 1 1]\n",
      "[  0  90 180 270]\n"
     ]
    }
   ],
   "source": [
    "feature_extraction()"
   ]
  },
  {
   "cell_type": "code",
   "execution_count": null,
   "id": "488d779f-1d92-4939-8ec5-83e3d2b8996a",
   "metadata": {},
   "outputs": [],
   "source": []
  },
  {
   "cell_type": "code",
   "execution_count": null,
   "id": "20a96834-443e-44b9-b669-bec6d3af9984",
   "metadata": {},
   "outputs": [],
   "source": []
  }
 ],
 "metadata": {
  "kernelspec": {
   "display_name": "Python 3 (ipykernel)",
   "language": "python",
   "name": "python3"
  },
  "language_info": {
   "codemirror_mode": {
    "name": "ipython",
    "version": 3
   },
   "file_extension": ".py",
   "mimetype": "text/x-python",
   "name": "python",
   "nbconvert_exporter": "python",
   "pygments_lexer": "ipython3",
   "version": "3.9.18"
  }
 },
 "nbformat": 4,
 "nbformat_minor": 5
}
