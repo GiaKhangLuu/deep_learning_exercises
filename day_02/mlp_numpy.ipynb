{
 "cells": [
  {
   "cell_type": "code",
   "execution_count": 24,
   "metadata": {},
   "outputs": [],
   "source": [
    "import numpy as np\n",
    "import matplotlib.pyplot as plt"
   ]
  },
  {
   "cell_type": "markdown",
   "metadata": {},
   "source": [
    "# Build model"
   ]
  },
  {
   "cell_type": "code",
   "execution_count": 6,
   "metadata": {},
   "outputs": [],
   "source": [
    "# 1. Randomly initialize parameters\n",
    "def initialize_parameters(layer_dims):\n",
    "    np.random.seed(1)\n",
    "    parameters = {}\n",
    "    L  = len(layer_dims)\n",
    "\n",
    "    for l in range(1, L):\n",
    "        # Initializing weights and bias at layer l with normal dist.\n",
    "        weights_at_l = np.random.standard_normal((layer_dims[l], layer_dims[l - 1]))\n",
    "        bias_at_l = np.random.standard_normal((layer_dims[l], 1))\n",
    "\n",
    "        # Limiting weights and bias in range [0, 0.01]\n",
    "        #parameters['W' + str(l)] = np.clip(weights_at_l, 0.0, 0.01)\n",
    "        #parameters['b' + str(l)] = np.clip(bias_at_l, 0.0, 0.01)\n",
    "        parameters['W' + str(l)] = weights_at_l\n",
    "        parameters['b' + str(l)] = bias_at_l\n",
    "\n",
    "        assert(parameters['W' + str(l)].shape == (layer_dims[l], layer_dims[l - 1]))\n",
    "        assert(parameters['b' + str(l)].shape == (layer_dims[l], 1))\n",
    "\n",
    "    return parameters\n",
    "\n",
    "# Test\n",
    "#params = initialize_parameters([1, 2, 3])\n",
    "#print(params)"
   ]
  },
  {
   "cell_type": "code",
   "execution_count": 7,
   "metadata": {},
   "outputs": [
    {
     "name": "stdout",
     "output_type": "stream",
     "text": [
      "(200, 100)\n"
     ]
    }
   ],
   "source": [
    "# 2. Linear combination\n",
    "def linear_forward(A, W, b):\n",
    "    #Z = np.dot(W, A) + b\n",
    "    Z = W.dot(A) + b\n",
    "\n",
    "    assert (Z.shape == (W.shape[0], A.shape[1]))\n",
    "    cache = (A, W, b)\n",
    "\n",
    "    return Z, cache\n",
    "\n",
    "# Test\n",
    "A = np.random.rand(10, 100)\n",
    "W = np.random.rand(200, 10)\n",
    "b = np.random.rand(200, 1)\n",
    "Z, cache = linear_forward(A, W, b)\n",
    "print(Z.shape)"
   ]
  },
  {
   "cell_type": "code",
   "execution_count": 8,
   "metadata": {},
   "outputs": [
    {
     "name": "stdout",
     "output_type": "stream",
     "text": [
      "(200, 100)\n",
      "(200, 100)\n"
     ]
    }
   ],
   "source": [
    "# 3. Activation function\n",
    "def sigmoid(Z):\n",
    "    A = 1 / (1 + np.exp(-Z))\n",
    "    cache = Z\n",
    "    \n",
    "    return A, cache\n",
    "\n",
    "def relu(Z):\n",
    "    A = np.maximum(Z, 0)\n",
    "    cache = Z\n",
    "\n",
    "    return A, cache\n",
    "\n",
    "def linear_activation_forward(A, W, b, activation):\n",
    "    Z, linear_cache = linear_forward(A, W, b)\n",
    "    if activation == 'sigmoid':\n",
    "        A, activation_cache = sigmoid(Z)\n",
    "    elif activation == 'relu':\n",
    "        A, activation_cache = relu(Z)\n",
    "    else:\n",
    "        print('Invalid activation function')\n",
    "        return\n",
    "    cache = (linear_cache, activation_cache)    \n",
    "\n",
    "    return A, cache\n",
    "\n",
    "# Test\n",
    "A, W, b = np.random.rand(10, 100), np.random.rand(200, 10), np.random.rand(200, 1)\n",
    "rs, cache = linear_activation_forward(A, W, b, 'relu')\n",
    "print(rs.shape)\n",
    "rs, cache = linear_activation_forward(A, W, b, 'sigmoid')\n",
    "print(rs.shape)"
   ]
  },
  {
   "cell_type": "code",
   "execution_count": 9,
   "metadata": {},
   "outputs": [
    {
     "name": "stdout",
     "output_type": "stream",
     "text": [
      "(1, 9)\n"
     ]
    }
   ],
   "source": [
    "# 4. Feed forward\n",
    "def model_forward(X, parameters):\n",
    "    caches = []\n",
    "    A = X\n",
    "    L = len(parameters) // 2 \n",
    "\n",
    "    for l in range(1, L):\n",
    "        A_prev = A\n",
    "        W = parameters['W' + str(l)]\n",
    "        b = parameters['b' + str(l)]\n",
    "        A, cache = linear_activation_forward(A_prev, W, b, 'relu')\n",
    "        caches.append(cache)\n",
    "\n",
    "    # Computing A in the last layer\n",
    "    W = parameters['W' + str(l + 1)]\n",
    "    b = parameters['b' + str(l + 1)]\n",
    "    AL, cache = linear_activation_forward(A, W, b, 'sigmoid')\n",
    "    caches.append(cache)\n",
    "\n",
    "    return AL, caches\n",
    "\n",
    "# Test\n",
    "params = initialize_parameters([10, 3, 1])\n",
    "X = np.random.rand(10, 9)\n",
    "AL, caches = model_forward(X, params)\n",
    "print(AL.shape)"
   ]
  },
  {
   "cell_type": "code",
   "execution_count": 10,
   "metadata": {},
   "outputs": [
    {
     "name": "stdout",
     "output_type": "stream",
     "text": [
      "0.8915072146435766\n"
     ]
    }
   ],
   "source": [
    "# 5. Cost function\n",
    "def compute_cost(AL, Y):\n",
    "    m = Y.shape[1]\n",
    "    cost = -1 / m * np.sum(np.multiply(Y, np.log(AL)) + np.multiply(1 - Y, np.log(1 - AL)))\n",
    "    #cost = -1 / m * np.sum(Y * np.log(AL) + ((1 - Y) * np.log(1 - AL)))\n",
    "    cost = np.squeeze(cost)\n",
    "\n",
    "    return cost\n",
    "\n",
    "# Test\n",
    "Y = np.array([[1, 1, 1, 0, 0, 0, 1, 1, 0]])\n",
    "cost = compute_cost(AL, Y)\n",
    "print(cost)"
   ]
  },
  {
   "cell_type": "code",
   "execution_count": 11,
   "metadata": {},
   "outputs": [],
   "source": [
    "# 6. Linear backward\n",
    "def linear_backward(dZ, cache):\n",
    "    A_pre, W, b = cache\n",
    "    m = A_pre.shape[1]\n",
    "\n",
    "    dW = 1/m * np.dot(dZ, A_pre.T)\n",
    "    db = 1/m * np.sum(dZ, axis=1, keepdims=True)\n",
    "    dA_pre = np.dot(W.T, dZ)\n",
    "\n",
    "    return dA_pre, dW, db"
   ]
  },
  {
   "cell_type": "code",
   "execution_count": 12,
   "metadata": {},
   "outputs": [],
   "source": [
    "# 7. Linear-activation backward\n",
    "def relu_deravative(dA, cache):\n",
    "    Z = cache\n",
    "    dZ = np.array(dA, copy=True)\n",
    "    dZ[Z <= 0] = 0\n",
    "\n",
    "    assert (dZ.shape == Z.shape) \n",
    "\n",
    "    return dZ\n",
    "\n",
    "def sigmoid_deravative(dA, cache):\n",
    "    Z = cache\n",
    "    s, _ = sigmoid(Z)\n",
    "    dZ = dA * s * (1 - s)\n",
    "\n",
    "    assert (dZ.shape == Z.shape)\n",
    "\n",
    "    return dZ\n",
    "\n",
    "def linear_activation_backward(dA, cache, activation):\n",
    "    linear_cache, activation_cache = cache\n",
    "\n",
    "    if activation == 'relu':\n",
    "        dZ = relu_deravative(dA, activation_cache)\n",
    "    if activation == 'sigmoid':\n",
    "        dZ = sigmoid_deravative(dA, activation_cache)\n",
    "    \n",
    "    dA_prev, dW, db = linear_backward(dZ, linear_cache)\n",
    "\n",
    "    return dA_prev, dW, db"
   ]
  },
  {
   "cell_type": "code",
   "execution_count": 13,
   "metadata": {},
   "outputs": [],
   "source": [
    "# 8. Backpropagation \n",
    "def model_backward(AL, Y, caches):\n",
    "    gradients = {}\n",
    "    L = len(caches)  # Num of layers\n",
    "    m = AL.shape[1]\n",
    "\n",
    "    # 1. Compute dAL\n",
    "    dAL = -1/m * (Y / AL - ((1 - Y) / (1 - AL)))\n",
    "\n",
    "    # 2. Compute dW\n",
    "    current_cache = caches[L - 1]\n",
    "    dA_prev_temp, dW_temp, db_temp = linear_activation_backward(dAL, current_cache, 'sigmoid')\n",
    "    gradients[\"dA\" + str(L - 1)] = dA_prev_temp\n",
    "    gradients[\"dW\" + str(L)] = dW_temp\n",
    "    gradients[\"db\" + str(L)] = db_temp\n",
    "\n",
    "    # Loop from l = L - 2 to l = 0\n",
    "    for l in range(L - 1)[::-1]:\n",
    "        # l-th layer: (RELU -> LINEAR) gradient\n",
    "        # Input: grads[\"dA\" + str(l + 1)], current_cache\n",
    "        # Output: grads[\"dA\" + str(l)], grads[\"dW\" + str(l + 1)], grads[\"db\" + str(l + 1)]\n",
    "        current_cache = caches[l]\n",
    "        dA_prev_temp, dW_temp, db_temp = linear_activation_backward(dA_prev_temp, current_cache, 'relu')\n",
    "        gradients[\"dA\" + str(l)] = dA_prev_temp\n",
    "        gradients[\"dW\" + str(l + 1)] = dW_temp\n",
    "        gradients[\"db\" + str(l + 1)] = db_temp\n",
    "\n",
    "    return gradients"
   ]
  },
  {
   "cell_type": "code",
   "execution_count": 14,
   "metadata": {},
   "outputs": [],
   "source": [
    "# 9. Updating model parameters\n",
    "def update_parameters(params, gradients, learning_rate):\n",
    "    parameters = params.copy()\n",
    "    L = len(parameters) // 2  # Num of layers\n",
    "\n",
    "    for l in range(L):\n",
    "        W_old, b_old = parameters[\"W\" + str(l + 1)], parameters[\"b\" + str(l + 1)]\n",
    "        dW, db = gradients[\"dW\" + str(l + 1)], gradients[\"db\" + str(l + 1)]\n",
    "\n",
    "        parameters[\"W\" + str(l + 1)] = W_old - learning_rate * dW\n",
    "        parameters[\"b\" + str(l + 1)] = b_old - learning_rate * db\n",
    "        #print(l + 1, b_old.shape)\n",
    "        #print(l + 1, db.shape)\n",
    "        #print(l + 1, parameters[\"b\" + str(l + 1)].shape)\n",
    "    \n",
    "    return parameters"
   ]
  },
  {
   "cell_type": "code",
   "execution_count": 15,
   "metadata": {},
   "outputs": [
    {
     "name": "stdout",
     "output_type": "stream",
     "text": [
      "Predictions:  [[0. 0. 0. 0. 0.]]\n",
      "Ground truth label:  [0, 0, 1, 0, 1]\n",
      "Accuracy: 0.6000000000000001\n"
     ]
    }
   ],
   "source": [
    "# 10. Predict func\n",
    "def predict(X, y, parameters):\n",
    "    m = X.shape[1]\n",
    "    n = len(parameters) // 2  # Num of layers\n",
    "    p = np.zeros((1, m))\n",
    "\n",
    "    # Feed forward\n",
    "    probas, _ = model_forward(X, parameters)\n",
    "    p = probas.copy()\n",
    "\n",
    "    # Convert probas to 0/1 predictions\n",
    "    i, j = np.where(p > 0.5)\n",
    "    p[i, j] = 1\n",
    "    i, j = np.where(p <= 0.5)\n",
    "    p[i, j] = 0\n",
    "\n",
    "    print(\"Predictions: \", str(p))\n",
    "    print(\"Ground truth label: \", str(y))\n",
    "    print(\"Accuracy: \" + str(np.sum((p == y)/m)))\n",
    "\n",
    "    return p\n",
    "\n",
    "# Test\n",
    "params = initialize_parameters([10, 3, 1])\n",
    "X = np.random.rand(10, 5)\n",
    "y = [0, 0, 1, 0, 1]\n",
    "p = predict(X, y, params)"
   ]
  },
  {
   "cell_type": "code",
   "execution_count": 21,
   "metadata": {},
   "outputs": [],
   "source": [
    "# 11. Build entire model\n",
    "def build_model(X, Y, layers_dims, learning_rate=0.1, num_iterations=1000, verbose=False):\n",
    "    np.random.seed(1)\n",
    "    costs = []\n",
    "\n",
    "    # Parameter initialization\n",
    "    parameters = initialize_parameters(layers_dims)\n",
    "\n",
    "    # Loop (gradient descent)\n",
    "    for i in range(num_iterations):\n",
    "        # Feed forward: [LINEAR -> RELU] * (L - 1) -> LINEAR -> SIGMOID\n",
    "        AL, caches = model_forward(X, parameters)\n",
    "\n",
    "        # Compute cost\n",
    "        cost = compute_cost(AL, Y)\n",
    "\n",
    "        # Backward propagation\n",
    "        grads = model_backward(AL, Y, caches)\n",
    "\n",
    "        # Update parameters\n",
    "        parameters = update_parameters(parameters, grads, learning_rate)\n",
    "\n",
    "        # Print cost after each 100 epochs\n",
    "        if verbose and i % 1000 == 0 or i == num_iterations - 1:\n",
    "            print(f\"Cost after iteration {i}: {np.squeeze(cost)}\")\n",
    "        if i % 100 == 0 or i == num_iterations:\n",
    "            costs.append(cost)\n",
    "    \n",
    "    return parameters, costs"
   ]
  },
  {
   "cell_type": "markdown",
   "metadata": {},
   "source": [
    "# Solve XOR problem"
   ]
  },
  {
   "cell_type": "code",
   "execution_count": 22,
   "metadata": {},
   "outputs": [
    {
     "name": "stdout",
     "output_type": "stream",
     "text": [
      "The input shape is: (2, 4)\n",
      "The output shape is: (1, 4)\n"
     ]
    }
   ],
   "source": [
    "# 12. Solving XOR problem\n",
    "X = np.array([[0, 0], [0, 1], [1, 0], [1, 1]])\n",
    "Y = np.array([[0], [1], [1], [0]])\n",
    "\n",
    "X = X.T\n",
    "Y = Y.T\n",
    "\n",
    "print(f\"The input shape is: {X.shape}\")\n",
    "print(f\"The output shape is: {Y.shape}\")"
   ]
  },
  {
   "cell_type": "code",
   "execution_count": 23,
   "metadata": {},
   "outputs": [
    {
     "name": "stdout",
     "output_type": "stream",
     "text": [
      "Cost after iteration 0: 1.4921524709624385\n",
      "Cost after iteration 1000: 0.21673718423367408\n",
      "Cost after iteration 2000: 0.06639340549397692\n",
      "Cost after iteration 3000: 0.031751081182718785\n",
      "Cost after iteration 4000: 0.0193912864471456\n",
      "Cost after iteration 4999: 0.013484100756148896\n"
     ]
    }
   ],
   "source": [
    "layers_dims = [2, 5, 1]\n",
    "parameters, costs = build_model(X, Y, layers_dims, num_iterations=5000, verbose=True)"
   ]
  },
  {
   "cell_type": "code",
   "execution_count": 27,
   "metadata": {},
   "outputs": [
    {
     "data": {
      "image/png": "[encoded data removed]",
      "text/plain": [
       "<Figure size 640x480 with 1 Axes>"
      ]
     },
     "metadata": {},
     "output_type": "display_data"
    }
   ],
   "source": [
    "# Summarize history for loss\n",
    "plt.plot(costs)\n",
    "\n",
    "plt.title('Model loss')\n",
    "plt.ylabel('loss')\n",
    "plt.xlabel('epoch')\n",
    "\n",
    "#plt.legend(['train'], loc='upper right')\n",
    "plt.show()"
   ]
  },
  {
   "cell_type": "code",
   "execution_count": null,
   "metadata": {},
   "outputs": [],
   "source": [
    "# Evaluating\n",
    "x_test = np.array([0, 0])\n",
    "x_test = np.expand_dims(x_test, axis=-1)\n",
    "print(x_test.shape)\n",
    "\n",
    "y_test = np.array([0])\n",
    "y_test = np.expand_dims(y_test, axis=-1)\n",
    "print(y_test.shape)\n",
    "\n",
    "pred_train = predict(x_test, y_test, parameters)"
   ]
  }
 ],
 "metadata": {
  "kernelspec": {
   "display_name": "Python 3 (ipykernel)",
   "language": "python",
   "name": "python3"
  },
  "language_info": {
   "codemirror_mode": {
    "name": "ipython",
    "version": 3
   },
   "file_extension": ".py",
   "mimetype": "text/x-python",
   "name": "python",
   "nbconvert_exporter": "python",
   "pygments_lexer": "ipython3",
   "version": "3.9.18"
  }
 },
 "nbformat": 4,
 "nbformat_minor": 2
}
