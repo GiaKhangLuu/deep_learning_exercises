{
 "cells": [
  {
   "cell_type": "code",
   "execution_count": 4,
   "metadata": {},
   "outputs": [],
   "source": [
    "import numpy as np\n",
    "import matplotlib.pyplot as plt\n",
    "import math"
   ]
  },
  {
   "cell_type": "code",
   "execution_count": 6,
   "metadata": {},
   "outputs": [
    {
     "ename": "SyntaxError",
     "evalue": "invalid syntax (1967125227.py, line 14)",
     "output_type": "error",
     "traceback": [
      "\u001b[0;36m  Cell \u001b[0;32mIn[6], line 14\u001b[0;36m\u001b[0m\n\u001b[0;31m    X[:, ix] = np.c_[r * np.sin(t), r * np.cos(t)].T\u001b[0m\n\u001b[0m    ^\u001b[0m\n\u001b[0;31mSyntaxError\u001b[0m\u001b[0;31m:\u001b[0m invalid syntax\n"
     ]
    }
   ],
   "source": [
    "N = 100  # no. points per class\n",
    "d0 = 2  # dimensionality\n",
    "C = 3  # no. classes\n",
    "X = np.zeros((d0, N*C))  # data matrix (each col = single sample)\n",
    "y = np.zeros(N*C, dtype='uint8')\n",
    "\n",
    "print(X)\n",
    "\n",
    "for j in range(C):\n",
    "    ix = range(N*j, N*(j+1))\n",
    "    r = np.linspace(0.0, 1, N)  # radius\n",
    "    t = np.linspace(j * 4, (j + 1) * 4, N) + np.random.rand(N) * 0.2  # theta\n",
    "    t = np.linspace(j * 4, (j + 1)\n",
    "    X[:, ix] = np.c_[r * np.sin(t), r * np.cos(t)].T\n",
    "    y[ix] = j\n",
    "\n",
    "plt.plot(X[0, :N], X[1, :N], 'bs', markersize=7, markeredgecolor='black')\n",
    "plt.plot(X[0, N:2*N], X[1, N:2*N], 'ro', markersize=7, markeredgecolor='black')\n",
    "plt.plot(X[0, 2*N:], X[1, 2*N:], 'g^', markersize=7, markeredgecolor='black')\n",
    "\n",
    "plt.xlim([-1.5, 1.5])\n",
    "plt.ylim([-1.5, 1.5])\n",
    "plt.show()"
   ]
  },
  {
   "cell_type": "code",
   "execution_count": null,
   "metadata": {},
   "outputs": [],
   "source": []
  },
  {
   "cell_type": "code",
   "execution_count": null,
   "metadata": {},
   "outputs": [],
   "source": []
  }
 ],
 "metadata": {
  "kernelspec": {
   "display_name": "Python 3 (ipykernel)",
   "language": "python",
   "name": "python3"
  },
  "language_info": {
   "codemirror_mode": {
    "name": "ipython",
    "version": 3
   },
   "file_extension": ".py",
   "mimetype": "text/x-python",
   "name": "python",
   "nbconvert_exporter": "python",
   "pygments_lexer": "ipython3",
   "version": "3.9.18"
  }
 },
 "nbformat": 4,
 "nbformat_minor": 4
}
